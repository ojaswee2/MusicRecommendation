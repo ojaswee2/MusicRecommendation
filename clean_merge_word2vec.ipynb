{
  "cells": [
    {
      "cell_type": "code",
      "execution_count": 2,
      "metadata": {
        "id": "bYp7rYK4LRLj",
        "outputId": "fe2d2806-35d7-4116-a5ae-c85585c15b11",
        "colab": {
          "base_uri": "https://localhost:8080/",
          "height": 356
        }
      },
      "outputs": [
        {
          "output_type": "error",
          "ename": "FileNotFoundError",
          "evalue": "[Errno 2] No such file or directory: '/root/Desktop/spotify_dataset.csv'",
          "traceback": [
            "\u001b[0;31m---------------------------------------------------------------------------\u001b[0m",
            "\u001b[0;31mFileNotFoundError\u001b[0m                         Traceback (most recent call last)",
            "\u001b[0;32m<ipython-input-2-bf54fe5dc9e3>\u001b[0m in \u001b[0;36m<cell line: 0>\u001b[0;34m()\u001b[0m\n\u001b[1;32m      6\u001b[0m \u001b[0msong_attr_file\u001b[0m \u001b[0;34m=\u001b[0m \u001b[0mos\u001b[0m\u001b[0;34m.\u001b[0m\u001b[0mpath\u001b[0m\u001b[0;34m.\u001b[0m\u001b[0mjoin\u001b[0m\u001b[0;34m(\u001b[0m\u001b[0mdesktop_path\u001b[0m\u001b[0;34m,\u001b[0m \u001b[0;34m\"Spotify_Song_Attributes.csv\"\u001b[0m\u001b[0;34m)\u001b[0m\u001b[0;34m\u001b[0m\u001b[0;34m\u001b[0m\u001b[0m\n\u001b[1;32m      7\u001b[0m \u001b[0;34m\u001b[0m\u001b[0m\n\u001b[0;32m----> 8\u001b[0;31m \u001b[0mplaylist_df\u001b[0m \u001b[0;34m=\u001b[0m \u001b[0mpd\u001b[0m\u001b[0;34m.\u001b[0m\u001b[0mread_csv\u001b[0m\u001b[0;34m(\u001b[0m\u001b[0mplaylist_file\u001b[0m\u001b[0;34m,\u001b[0m \u001b[0mon_bad_lines\u001b[0m\u001b[0;34m=\u001b[0m\u001b[0;34m'skip'\u001b[0m\u001b[0;34m)\u001b[0m\u001b[0;34m\u001b[0m\u001b[0;34m\u001b[0m\u001b[0m\n\u001b[0m\u001b[1;32m      9\u001b[0m \u001b[0msong_attr_df\u001b[0m \u001b[0;34m=\u001b[0m \u001b[0mpd\u001b[0m\u001b[0;34m.\u001b[0m\u001b[0mread_csv\u001b[0m\u001b[0;34m(\u001b[0m\u001b[0msong_attr_file\u001b[0m\u001b[0;34m)\u001b[0m\u001b[0;34m\u001b[0m\u001b[0;34m\u001b[0m\u001b[0m\n\u001b[1;32m     10\u001b[0m \u001b[0;34m\u001b[0m\u001b[0m\n",
            "\u001b[0;32m/usr/local/lib/python3.11/dist-packages/pandas/io/parsers/readers.py\u001b[0m in \u001b[0;36mread_csv\u001b[0;34m(filepath_or_buffer, sep, delimiter, header, names, index_col, usecols, dtype, engine, converters, true_values, false_values, skipinitialspace, skiprows, skipfooter, nrows, na_values, keep_default_na, na_filter, verbose, skip_blank_lines, parse_dates, infer_datetime_format, keep_date_col, date_parser, date_format, dayfirst, cache_dates, iterator, chunksize, compression, thousands, decimal, lineterminator, quotechar, quoting, doublequote, escapechar, comment, encoding, encoding_errors, dialect, on_bad_lines, delim_whitespace, low_memory, memory_map, float_precision, storage_options, dtype_backend)\u001b[0m\n\u001b[1;32m   1024\u001b[0m     \u001b[0mkwds\u001b[0m\u001b[0;34m.\u001b[0m\u001b[0mupdate\u001b[0m\u001b[0;34m(\u001b[0m\u001b[0mkwds_defaults\u001b[0m\u001b[0;34m)\u001b[0m\u001b[0;34m\u001b[0m\u001b[0;34m\u001b[0m\u001b[0m\n\u001b[1;32m   1025\u001b[0m \u001b[0;34m\u001b[0m\u001b[0m\n\u001b[0;32m-> 1026\u001b[0;31m     \u001b[0;32mreturn\u001b[0m \u001b[0m_read\u001b[0m\u001b[0;34m(\u001b[0m\u001b[0mfilepath_or_buffer\u001b[0m\u001b[0;34m,\u001b[0m \u001b[0mkwds\u001b[0m\u001b[0;34m)\u001b[0m\u001b[0;34m\u001b[0m\u001b[0;34m\u001b[0m\u001b[0m\n\u001b[0m\u001b[1;32m   1027\u001b[0m \u001b[0;34m\u001b[0m\u001b[0m\n\u001b[1;32m   1028\u001b[0m \u001b[0;34m\u001b[0m\u001b[0m\n",
            "\u001b[0;32m/usr/local/lib/python3.11/dist-packages/pandas/io/parsers/readers.py\u001b[0m in \u001b[0;36m_read\u001b[0;34m(filepath_or_buffer, kwds)\u001b[0m\n\u001b[1;32m    618\u001b[0m \u001b[0;34m\u001b[0m\u001b[0m\n\u001b[1;32m    619\u001b[0m     \u001b[0;31m# Create the parser.\u001b[0m\u001b[0;34m\u001b[0m\u001b[0;34m\u001b[0m\u001b[0m\n\u001b[0;32m--> 620\u001b[0;31m     \u001b[0mparser\u001b[0m \u001b[0;34m=\u001b[0m \u001b[0mTextFileReader\u001b[0m\u001b[0;34m(\u001b[0m\u001b[0mfilepath_or_buffer\u001b[0m\u001b[0;34m,\u001b[0m \u001b[0;34m**\u001b[0m\u001b[0mkwds\u001b[0m\u001b[0;34m)\u001b[0m\u001b[0;34m\u001b[0m\u001b[0;34m\u001b[0m\u001b[0m\n\u001b[0m\u001b[1;32m    621\u001b[0m \u001b[0;34m\u001b[0m\u001b[0m\n\u001b[1;32m    622\u001b[0m     \u001b[0;32mif\u001b[0m \u001b[0mchunksize\u001b[0m \u001b[0;32mor\u001b[0m \u001b[0miterator\u001b[0m\u001b[0;34m:\u001b[0m\u001b[0;34m\u001b[0m\u001b[0;34m\u001b[0m\u001b[0m\n",
            "\u001b[0;32m/usr/local/lib/python3.11/dist-packages/pandas/io/parsers/readers.py\u001b[0m in \u001b[0;36m__init__\u001b[0;34m(self, f, engine, **kwds)\u001b[0m\n\u001b[1;32m   1618\u001b[0m \u001b[0;34m\u001b[0m\u001b[0m\n\u001b[1;32m   1619\u001b[0m         \u001b[0mself\u001b[0m\u001b[0;34m.\u001b[0m\u001b[0mhandles\u001b[0m\u001b[0;34m:\u001b[0m \u001b[0mIOHandles\u001b[0m \u001b[0;34m|\u001b[0m \u001b[0;32mNone\u001b[0m \u001b[0;34m=\u001b[0m \u001b[0;32mNone\u001b[0m\u001b[0;34m\u001b[0m\u001b[0;34m\u001b[0m\u001b[0m\n\u001b[0;32m-> 1620\u001b[0;31m         \u001b[0mself\u001b[0m\u001b[0;34m.\u001b[0m\u001b[0m_engine\u001b[0m \u001b[0;34m=\u001b[0m \u001b[0mself\u001b[0m\u001b[0;34m.\u001b[0m\u001b[0m_make_engine\u001b[0m\u001b[0;34m(\u001b[0m\u001b[0mf\u001b[0m\u001b[0;34m,\u001b[0m \u001b[0mself\u001b[0m\u001b[0;34m.\u001b[0m\u001b[0mengine\u001b[0m\u001b[0;34m)\u001b[0m\u001b[0;34m\u001b[0m\u001b[0;34m\u001b[0m\u001b[0m\n\u001b[0m\u001b[1;32m   1621\u001b[0m \u001b[0;34m\u001b[0m\u001b[0m\n\u001b[1;32m   1622\u001b[0m     \u001b[0;32mdef\u001b[0m \u001b[0mclose\u001b[0m\u001b[0;34m(\u001b[0m\u001b[0mself\u001b[0m\u001b[0;34m)\u001b[0m \u001b[0;34m->\u001b[0m \u001b[0;32mNone\u001b[0m\u001b[0;34m:\u001b[0m\u001b[0;34m\u001b[0m\u001b[0;34m\u001b[0m\u001b[0m\n",
            "\u001b[0;32m/usr/local/lib/python3.11/dist-packages/pandas/io/parsers/readers.py\u001b[0m in \u001b[0;36m_make_engine\u001b[0;34m(self, f, engine)\u001b[0m\n\u001b[1;32m   1878\u001b[0m                 \u001b[0;32mif\u001b[0m \u001b[0;34m\"b\"\u001b[0m \u001b[0;32mnot\u001b[0m \u001b[0;32min\u001b[0m \u001b[0mmode\u001b[0m\u001b[0;34m:\u001b[0m\u001b[0;34m\u001b[0m\u001b[0;34m\u001b[0m\u001b[0m\n\u001b[1;32m   1879\u001b[0m                     \u001b[0mmode\u001b[0m \u001b[0;34m+=\u001b[0m \u001b[0;34m\"b\"\u001b[0m\u001b[0;34m\u001b[0m\u001b[0;34m\u001b[0m\u001b[0m\n\u001b[0;32m-> 1880\u001b[0;31m             self.handles = get_handle(\n\u001b[0m\u001b[1;32m   1881\u001b[0m                 \u001b[0mf\u001b[0m\u001b[0;34m,\u001b[0m\u001b[0;34m\u001b[0m\u001b[0;34m\u001b[0m\u001b[0m\n\u001b[1;32m   1882\u001b[0m                 \u001b[0mmode\u001b[0m\u001b[0;34m,\u001b[0m\u001b[0;34m\u001b[0m\u001b[0;34m\u001b[0m\u001b[0m\n",
            "\u001b[0;32m/usr/local/lib/python3.11/dist-packages/pandas/io/common.py\u001b[0m in \u001b[0;36mget_handle\u001b[0;34m(path_or_buf, mode, encoding, compression, memory_map, is_text, errors, storage_options)\u001b[0m\n\u001b[1;32m    871\u001b[0m         \u001b[0;32mif\u001b[0m \u001b[0mioargs\u001b[0m\u001b[0;34m.\u001b[0m\u001b[0mencoding\u001b[0m \u001b[0;32mand\u001b[0m \u001b[0;34m\"b\"\u001b[0m \u001b[0;32mnot\u001b[0m \u001b[0;32min\u001b[0m \u001b[0mioargs\u001b[0m\u001b[0;34m.\u001b[0m\u001b[0mmode\u001b[0m\u001b[0;34m:\u001b[0m\u001b[0;34m\u001b[0m\u001b[0;34m\u001b[0m\u001b[0m\n\u001b[1;32m    872\u001b[0m             \u001b[0;31m# Encoding\u001b[0m\u001b[0;34m\u001b[0m\u001b[0;34m\u001b[0m\u001b[0m\n\u001b[0;32m--> 873\u001b[0;31m             handle = open(\n\u001b[0m\u001b[1;32m    874\u001b[0m                 \u001b[0mhandle\u001b[0m\u001b[0;34m,\u001b[0m\u001b[0;34m\u001b[0m\u001b[0;34m\u001b[0m\u001b[0m\n\u001b[1;32m    875\u001b[0m                 \u001b[0mioargs\u001b[0m\u001b[0;34m.\u001b[0m\u001b[0mmode\u001b[0m\u001b[0;34m,\u001b[0m\u001b[0;34m\u001b[0m\u001b[0;34m\u001b[0m\u001b[0m\n",
            "\u001b[0;31mFileNotFoundError\u001b[0m: [Errno 2] No such file or directory: '/root/Desktop/spotify_dataset.csv'"
          ]
        }
      ],
      "source": [
        "import pandas as pd\n",
        "import os\n",
        "desktop_path = os.path.expanduser(\"~/Desktop\")\n",
        "\n",
        "playlist_file = os.path.join(desktop_path, \"spotify_dataset.csv\")\n",
        "song_attr_file = os.path.join(desktop_path, \"Spotify_Song_Attributes.csv\")\n",
        "\n",
        "playlist_df = pd.read_csv(playlist_file, on_bad_lines='skip')\n",
        "song_attr_df = pd.read_csv(song_attr_file)\n",
        "\n",
        "playlist_df.describe()"
      ]
    },
    {
      "cell_type": "code",
      "execution_count": null,
      "metadata": {
        "id": "40hGgumjLRLo"
      },
      "outputs": [],
      "source": [
        "#fixing column names (removing spaces, quotes, uppercases)\n",
        "playlist_df.columns = (\n",
        "    playlist_df.columns\n",
        "    .str.replace('\"', '')\n",
        "    .str.strip()\n",
        "    .str.lower()\n",
        ")\n",
        "print(playlist_df.columns.tolist())\n"
      ]
    },
    {
      "cell_type": "code",
      "execution_count": null,
      "metadata": {
        "id": "k9atzFIFLRLo"
      },
      "outputs": [],
      "source": [
        "#cleaning the dataset (removing nulls and duplicates)\n",
        "new_playlist_df = playlist_df.dropna(subset=['artistname', 'trackname']).copy()\n",
        "\n",
        "new_playlist_df['artistname'] = new_playlist_df['artistname'].str.strip()\n",
        "new_playlist_df['trackname'] = new_playlist_df['trackname'].str.strip()\n",
        "\n",
        "new_playlist_df = new_playlist_df.drop_duplicates(subset=['artistname', 'trackname'])\n",
        "new_playlist_df = new_playlist_df.reset_index(drop=True)\n",
        "\n",
        "print(new_playlist_df.describe())"
      ]
    },
    {
      "cell_type": "code",
      "execution_count": null,
      "metadata": {
        "id": "QdLmlWNvLRLp"
      },
      "outputs": [],
      "source": [
        "new_playlist_df.shape"
      ]
    },
    {
      "cell_type": "code",
      "execution_count": null,
      "metadata": {
        "id": "TpZBcIdeLRLq"
      },
      "outputs": [],
      "source": [
        "desktop_path = os.path.expanduser(\"~/Desktop\")\n",
        "\n",
        "filename = \"cleaned_spotify_playlists.csv\"\n",
        "\n",
        "new_playlist_df.to_csv(os.path.join(desktop_path, filename), index=False)"
      ]
    },
    {
      "cell_type": "code",
      "execution_count": 3,
      "metadata": {
        "id": "GljhHnBnLRLq",
        "outputId": "72a27482-daee-4f9a-992d-13f670f5c440",
        "colab": {
          "base_uri": "https://localhost:8080/",
          "height": 245
        }
      },
      "outputs": [
        {
          "output_type": "error",
          "ename": "NameError",
          "evalue": "name 'song_attr_df' is not defined",
          "traceback": [
            "\u001b[0;31m---------------------------------------------------------------------------\u001b[0m",
            "\u001b[0;31mNameError\u001b[0m                                 Traceback (most recent call last)",
            "\u001b[0;32m<ipython-input-3-49a3edc4be32>\u001b[0m in \u001b[0;36m<cell line: 0>\u001b[0;34m()\u001b[0m\n\u001b[1;32m      1\u001b[0m \u001b[0;31m#cleaning dataset 2\u001b[0m\u001b[0;34m\u001b[0m\u001b[0;34m\u001b[0m\u001b[0m\n\u001b[0;32m----> 2\u001b[0;31m \u001b[0msong_attr_df\u001b[0m\u001b[0;34m.\u001b[0m\u001b[0mdropna\u001b[0m\u001b[0;34m(\u001b[0m\u001b[0msubset\u001b[0m\u001b[0;34m=\u001b[0m\u001b[0;34m[\u001b[0m\u001b[0;34m'artistName'\u001b[0m\u001b[0;34m,\u001b[0m \u001b[0;34m'genre'\u001b[0m\u001b[0;34m,\u001b[0m \u001b[0;34m'msPlayed'\u001b[0m\u001b[0;34m,\u001b[0m \u001b[0;34m'danceability'\u001b[0m\u001b[0;34m,\u001b[0m\u001b[0;34m'energy'\u001b[0m\u001b[0;34m,\u001b[0m\u001b[0;34m'key'\u001b[0m\u001b[0;34m,\u001b[0m\u001b[0;34m'loudness'\u001b[0m\u001b[0;34m,\u001b[0m\u001b[0;34m'mode'\u001b[0m\u001b[0;34m,\u001b[0m\u001b[0;34m'speechiness'\u001b[0m\u001b[0;34m,\u001b[0m\u001b[0;34m'acousticness'\u001b[0m\u001b[0;34m,\u001b[0m\u001b[0;34m'instrumentalness'\u001b[0m\u001b[0;34m,\u001b[0m\u001b[0;34m'liveness'\u001b[0m\u001b[0;34m,\u001b[0m\u001b[0;34m'valence'\u001b[0m\u001b[0;34m,\u001b[0m\u001b[0;34m'tempo'\u001b[0m\u001b[0;34m,\u001b[0m\u001b[0;34m'type'\u001b[0m\u001b[0;34m,\u001b[0m\u001b[0;34m'id'\u001b[0m\u001b[0;34m,\u001b[0m\u001b[0;34m'uri'\u001b[0m\u001b[0;34m,\u001b[0m\u001b[0;34m'track_href'\u001b[0m\u001b[0;34m,\u001b[0m\u001b[0;34m'analysis_url'\u001b[0m\u001b[0;34m,\u001b[0m\u001b[0;34m'duration_ms'\u001b[0m\u001b[0;34m,\u001b[0m\u001b[0;34m'time_signature'\u001b[0m\u001b[0;34m]\u001b[0m\u001b[0;34m,\u001b[0m \u001b[0minplace\u001b[0m\u001b[0;34m=\u001b[0m\u001b[0;32mTrue\u001b[0m\u001b[0;34m)\u001b[0m  \u001b[0;31m# Drop rows with missing critical values\u001b[0m\u001b[0;34m\u001b[0m\u001b[0;34m\u001b[0m\u001b[0m\n\u001b[0m\u001b[1;32m      3\u001b[0m \u001b[0;34m\u001b[0m\u001b[0m\n\u001b[1;32m      4\u001b[0m \u001b[0msong_attr_df\u001b[0m\u001b[0;34m.\u001b[0m\u001b[0mdrop_duplicates\u001b[0m\u001b[0;34m(\u001b[0m\u001b[0minplace\u001b[0m\u001b[0;34m=\u001b[0m\u001b[0;32mTrue\u001b[0m\u001b[0;34m)\u001b[0m\u001b[0;34m\u001b[0m\u001b[0;34m\u001b[0m\u001b[0m\n\u001b[1;32m      5\u001b[0m \u001b[0;34m\u001b[0m\u001b[0m\n",
            "\u001b[0;31mNameError\u001b[0m: name 'song_attr_df' is not defined"
          ]
        }
      ],
      "source": [
        "#cleaning dataset 2\n",
        "song_attr_df.dropna(subset=['artistName', 'genre', 'msPlayed', 'danceability','energy','key','loudness','mode','speechiness','acousticness','instrumentalness','liveness','valence','tempo','type','id','uri','track_href','analysis_url','duration_ms','time_signature'], inplace=True)  # Drop rows with missing critical values\n",
        "\n",
        "song_attr_df.drop_duplicates(inplace=True)\n",
        "\n",
        "for col in song_attr_df.select_dtypes(include=['object']).columns:\n",
        "    song_attr_df[col] = song_attr_df[col].astype(str).str.lower().str.strip()\n",
        "\n",
        "song_attr_df.columns = [col.strip().lower().replace(\" \", \"_\") for col in song_attr_df.columns]\n",
        "from sklearn.preprocessing import MinMaxScaler\n",
        "scaler = MinMaxScaler()\n",
        "numeric_cols = song_attr_df.select_dtypes(include=['number']).columns\n",
        "song_attr_df[numeric_cols] = scaler.fit_transform(song_attr_df[numeric_cols])\n",
        "song_attr_df = song_attr_df.apply(lambda x: x.str.encode('utf-8').str.decode('utf-8') if x.dtype == \"object\" else x)\n",
        "\n",
        "print(song_attr_df)\n",
        "\n",
        "song_attr_df.to_csv(\"cleaned_dataset.csv\", index=False)\n",
        "\n",
        "print(\"Dataset cleaned and saved as 'cleaned_dataset.csv'\")\n",
        "\n",
        "print(song_attr_df.head())"
      ]
    },
    {
      "cell_type": "code",
      "execution_count": null,
      "metadata": {
        "id": "UnZXjqapLRLr"
      },
      "outputs": [],
      "source": [
        "def merge_datasets(new_playlist_df, song_attr_df):\n",
        "    \"\"\"\n",
        "    Clean and merge the playlist and attributes datasets on track name and artist name.\n",
        "    Returns the merged DataFrame.\n",
        "    \"\"\"\n",
        "\n",
        "    # Merge on track name + artist name\n",
        "    merged_df = pd.merge(\n",
        "        new_playlist_df,\n",
        "        song_attr_df,\n",
        "        on=['track_name'],\n",
        "        how='inner'  # or 'left' depending on what you want to keep\n",
        "    )\n",
        "\n",
        "    return merged_df\n",
        "merge_datasets(new_playlist_df, song_attr_df)"
      ]
    },
    {
      "cell_type": "code",
      "execution_count": null,
      "metadata": {
        "id": "c763a0ea"
      },
      "outputs": [],
      "source": [
        "\n",
        "from gensim.models import Word2Vec\n",
        "\n",
        "# Create unique song identifier\n",
        "df['song_id'] = df['track_name'].str.lower() + ' - ' + df['artist_name'].str.lower()\n",
        "\n",
        "# Group songs by playlist\n",
        "playlists = df.groupby('playlistname')['song_id'].apply(list).tolist()\n",
        "\n",
        "# Train Word2Vec model\n",
        "model = Word2Vec(\n",
        "    sentences=playlists,\n",
        "    vector_size=100,\n",
        "    window=5,\n",
        "    min_count=1,\n",
        "    sg=1,\n",
        "    workers=4,\n",
        "    epochs=20\n",
        ")\n",
        "\n",
        "# Save model\n",
        "model.save(\"song_word2vec.model\")\n",
        "\n",
        "# Example: Find similar songs\n",
        "song_query = 'blinding lights - the weeknd'\n",
        "if song_query in model.wv:\n",
        "    similar_songs = model.wv.most_similar(song_query, topn=10)\n",
        "    for song, score in similar_songs:\n",
        "        print(f\"{song} (score: {score:.3f})\")\n",
        "else:\n",
        "    print(\"Song not in vocabulary.\")\n"
      ]
    },
    {
      "cell_type": "code",
      "source": [
        "from gensim.models import Word2Vec\n",
        "from sklearn.metrics.pairwise import cosine_similarity\n",
        "import numpy as np\n",
        "\n",
        "# Example user input\n",
        "user_preferences = {\n",
        "    'genre': 'pop',\n",
        "    'mood': 'happy',  # high valence\n",
        "    'energy': 0.7,\n",
        "    'danceability': 0.6,\n",
        "    'favorite_song': 'blinding lights'  # example seed\n",
        "}\n",
        "\n",
        "# Map mood to valence threshold\n",
        "mood_valence_map = {\n",
        "    'happy': 0.6,\n",
        "    'sad': 0.3,\n",
        "    'energetic': 0.7,\n",
        "    'calm': 0.4\n",
        "}\n",
        "valence_threshold = mood_valence_map.get(user_preferences['mood'], 0.5)\n",
        "\n",
        "# Make a full song key\n",
        "merged_df['song_key'] = merged_df['track_name'].str.lower().str.strip()\n",
        "\n",
        "# Check if the favorite song is in the model\n",
        "seed_song = user_preferences['favorite_song'].lower().strip()\n",
        "if seed_song not in w2v_model.wv:\n",
        "    print(f\"'{seed_song}' not in vocabulary. Please choose another song.\")\n",
        "else:\n",
        "    similar_songs = w2v_model.wv.most_similar(seed_song, topn=500)\n",
        "    similar_song_names = [song for song, sim in similar_songs]\n",
        "    filtered_df = merged_df[merged_df['song_key'].isin(similar_song_names)].copy()\n",
        "\n",
        "    # Apply additional metadata filters\n",
        "    filtered_df = filtered_df[\n",
        "        (filtered_df['genre'].str.lower() == user_preferences['genre'].lower()) &\n",
        "        (filtered_df['valence'] >= valence_threshold) &\n",
        "        (filtered_df['energy'] >= user_preferences['energy']) &\n",
        "        (filtered_df['danceability'] >= user_preferences['danceability'])\n",
        "    ]\n",
        "\n",
        "    # Rank songs by Word2Vec similarity score\n",
        "    similarity_scores = []\n",
        "    for song in filtered_df['song_key']:\n",
        "        sim_score = w2v_model.wv.similarity(seed_song, song)\n",
        "        similarity_scores.append(sim_score)\n",
        "\n",
        "    filtered_df['similarity'] = similarity_scores\n",
        "\n",
        "    # Sort by similarity\n",
        "    ranked_df = filtered_df.sort_values(by='similarity', ascending=False)\n",
        "\n",
        "    # Show top 10 recommendations\n",
        "    recommendations = ranked_df[['track_name', 'artist_name', 'genre', 'valence', 'similarity']].head(10)\n",
        "    print(\"Top Recommendations:\")\n",
        "    print(recommendations)\n"
      ],
      "metadata": {
        "id": "onU_zKPYM5GH"
      },
      "execution_count": null,
      "outputs": []
    }
  ],
  "metadata": {
    "kernelspec": {
      "display_name": "Python 3",
      "language": "python",
      "name": "python3"
    },
    "language_info": {
      "codemirror_mode": {
        "name": "ipython",
        "version": 3
      },
      "file_extension": ".py",
      "mimetype": "text/x-python",
      "name": "python",
      "nbconvert_exporter": "python",
      "pygments_lexer": "ipython3",
      "version": "3.12.2"
    },
    "colab": {
      "provenance": []
    }
  },
  "nbformat": 4,
  "nbformat_minor": 0
}