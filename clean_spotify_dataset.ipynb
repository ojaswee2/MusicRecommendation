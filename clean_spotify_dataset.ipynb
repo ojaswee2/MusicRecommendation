{
 "cells": [
  {
   "cell_type": "code",
   "execution_count": 2,
   "metadata": {},
   "outputs": [
    {
     "data": {
      "text/html": [
       "<div>\n",
       "<style scoped>\n",
       "    .dataframe tbody tr th:only-of-type {\n",
       "        vertical-align: middle;\n",
       "    }\n",
       "\n",
       "    .dataframe tbody tr th {\n",
       "        vertical-align: top;\n",
       "    }\n",
       "\n",
       "    .dataframe thead th {\n",
       "        text-align: right;\n",
       "    }\n",
       "</style>\n",
       "<table border=\"1\" class=\"dataframe\">\n",
       "  <thead>\n",
       "    <tr style=\"text-align: right;\">\n",
       "      <th></th>\n",
       "      <th>user_id</th>\n",
       "      <th>\"artistname\"</th>\n",
       "      <th>\"trackname\"</th>\n",
       "      <th>\"playlistname\"</th>\n",
       "    </tr>\n",
       "  </thead>\n",
       "  <tbody>\n",
       "    <tr>\n",
       "      <th>count</th>\n",
       "      <td>12891680</td>\n",
       "      <td>12858108</td>\n",
       "      <td>12891592</td>\n",
       "      <td>12890434</td>\n",
       "    </tr>\n",
       "    <tr>\n",
       "      <th>unique</th>\n",
       "      <td>15918</td>\n",
       "      <td>289820</td>\n",
       "      <td>2032043</td>\n",
       "      <td>157504</td>\n",
       "    </tr>\n",
       "    <tr>\n",
       "      <th>top</th>\n",
       "      <td>4398de6902abde3351347b048fcdc287</td>\n",
       "      <td>Daft Punk</td>\n",
       "      <td>Intro</td>\n",
       "      <td>Starred</td>\n",
       "    </tr>\n",
       "    <tr>\n",
       "      <th>freq</th>\n",
       "      <td>295275</td>\n",
       "      <td>36086</td>\n",
       "      <td>6676</td>\n",
       "      <td>1337085</td>\n",
       "    </tr>\n",
       "  </tbody>\n",
       "</table>\n",
       "</div>"
      ],
      "text/plain": [
       "                                 user_id  \"artistname\"  \"trackname\"  \\\n",
       "count                           12891680      12858108     12891592   \n",
       "unique                             15918        289820      2032043   \n",
       "top     4398de6902abde3351347b048fcdc287     Daft Punk        Intro   \n",
       "freq                              295275         36086         6676   \n",
       "\n",
       "        \"playlistname\"  \n",
       "count         12890434  \n",
       "unique          157504  \n",
       "top            Starred  \n",
       "freq           1337085  "
      ]
     },
     "execution_count": 2,
     "metadata": {},
     "output_type": "execute_result"
    }
   ],
   "source": [
    "import pandas as pd \n",
    "import os\n",
    "desktop_path = os.path.expanduser(\"~/Desktop\")\n",
    "\n",
    "playlist_file = os.path.join(desktop_path, \"spotify_dataset.csv\")\n",
    "song_attr_file = os.path.join(desktop_path, \"Spotify_Song_Attributes.csv\")\n",
    "\n",
    "playlist_df = pd.read_csv(playlist_file, on_bad_lines='skip')\n",
    "song_attr_df = pd.read_csv(song_attr_file)\n",
    "\n",
    "playlist_df.describe()"
   ]
  },
  {
   "cell_type": "code",
   "execution_count": 3,
   "metadata": {},
   "outputs": [
    {
     "name": "stdout",
     "output_type": "stream",
     "text": [
      "['user_id', 'artistname', 'trackname', 'playlistname']\n"
     ]
    }
   ],
   "source": [
    "#fixing column names (removing spaces, quotes, uppercases)\n",
    "playlist_df.columns = (\n",
    "    playlist_df.columns\n",
    "    .str.replace('\"', '') \n",
    "    .str.strip()         \n",
    "    .str.lower()   \n",
    ")\n",
    "print(playlist_df.columns.tolist()) \n"
   ]
  },
  {
   "cell_type": "code",
   "execution_count": 4,
   "metadata": {},
   "outputs": [
    {
     "name": "stdout",
     "output_type": "stream",
     "text": [
      "                                 user_id       artistname trackname  \\\n",
      "count                            2790680          2790680   2790680   \n",
      "unique                             14062           289778   2005143   \n",
      "top     4398de6902abde3351347b048fcdc287  Various Artists     Intro   \n",
      "freq                              138074             6780      1589   \n",
      "\n",
      "       playlistname  \n",
      "count       2789536  \n",
      "unique        92871  \n",
      "top         Starred  \n",
      "freq         194353  \n"
     ]
    }
   ],
   "source": [
    "#cleaning the dataset (removing nulls and duplicates)\n",
    "new_playlist_df = playlist_df.dropna(subset=['artistname', 'trackname']).copy()\n",
    "\n",
    "new_playlist_df['artistname'] = new_playlist_df['artistname'].str.strip()\n",
    "new_playlist_df['trackname'] = new_playlist_df['trackname'].str.strip()\n",
    "\n",
    "new_playlist_df = new_playlist_df.drop_duplicates(subset=['artistname', 'trackname'])\n",
    "new_playlist_df = new_playlist_df.reset_index(drop=True)\n",
    "\n",
    "print(new_playlist_df.describe())"
   ]
  },
  {
   "cell_type": "code",
   "execution_count": 5,
   "metadata": {},
   "outputs": [
    {
     "data": {
      "text/plain": [
       "(2790680, 4)"
      ]
     },
     "execution_count": 5,
     "metadata": {},
     "output_type": "execute_result"
    }
   ],
   "source": [
    "new_playlist_df.shape"
   ]
  },
  {
   "cell_type": "code",
   "execution_count": 6,
   "metadata": {},
   "outputs": [],
   "source": [
    "desktop_path = os.path.expanduser(\"~/Desktop\")\n",
    "\n",
    "filename = \"cleaned_spotify_playlists.csv\"\n",
    "\n",
    "new_playlist_df.to_csv(os.path.join(desktop_path, filename), index=False)"
   ]
  }
 ],
 "metadata": {
  "kernelspec": {
   "display_name": "Python 3",
   "language": "python",
   "name": "python3"
  },
  "language_info": {
   "codemirror_mode": {
    "name": "ipython",
    "version": 3
   },
   "file_extension": ".py",
   "mimetype": "text/x-python",
   "name": "python",
   "nbconvert_exporter": "python",
   "pygments_lexer": "ipython3",
   "version": "3.12.2"
  }
 },
 "nbformat": 4,
 "nbformat_minor": 2
}
